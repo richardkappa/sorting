{
 "cells": [
  {
   "cell_type": "code",
   "execution_count": 1,
   "id": "fc3a1f95",
   "metadata": {},
   "outputs": [],
   "source": [
    "import random"
   ]
  },
  {
   "cell_type": "markdown",
   "id": "17f9e647",
   "metadata": {},
   "source": [
    "Make a list of random numbers to work with"
   ]
  },
  {
   "cell_type": "code",
   "execution_count": 87,
   "id": "ea9341a5",
   "metadata": {},
   "outputs": [],
   "source": []
  },
  {
   "cell_type": "markdown",
   "id": "cec076ec",
   "metadata": {},
   "source": [
    "Build a function that compares two positions and returns the position of the higher value"
   ]
  },
  {
   "cell_type": "code",
   "execution_count": 88,
   "id": "6a13edf9",
   "metadata": {},
   "outputs": [
    {
     "data": {
      "text/plain": [
       "[8, 4, 1, 7, 3, 10, 2, 5, 6, 9]"
      ]
     },
     "execution_count": 88,
     "metadata": {},
     "output_type": "execute_result"
    }
   ],
   "source": [
    "randomlist"
   ]
  },
  {
   "cell_type": "code",
   "execution_count": 90,
   "id": "8d758135",
   "metadata": {},
   "outputs": [],
   "source": [
    "def find_biggest(list, pos_1, pos_2):\n",
    "    if list[pos_1]>=list[pos_2]:\n",
    "        max=pos_1\n",
    "    else:\n",
    "        max=pos_2\n",
    "    return max"
   ]
  },
  {
   "cell_type": "markdown",
   "id": "881694c4",
   "metadata": {},
   "source": [
    "Now I have this, what I want to do is work through the positions comparing each pair and moving the max value to the right to define the bubble sort"
   ]
  },
  {
   "cell_type": "code",
   "execution_count": 91,
   "id": "09a7c373",
   "metadata": {},
   "outputs": [
    {
     "name": "stdout",
     "output_type": "stream",
     "text": [
      "[1, 2, 3, 4, 5, 6, 7, 8, 9, 10]\n"
     ]
    }
   ],
   "source": [
    "list = randomlist\n",
    "print(list)\n",
    "\n",
    "def RKA_Bubblesort(list, print_list=False):\n",
    "    i=1\n",
    "    j=len(list)-1\n",
    "    while j>0:\n",
    "        while i<=j:\n",
    "            if find_biggest(list, i-1, i) != i:\n",
    "                list[i], list[i-1] = list[i-1], list[i]\n",
    "            if print_list:\n",
    "                print(list)\n",
    "            i += 1\n",
    "        i=1\n",
    "        j -= 1\n",
    "    return list"
   ]
  },
  {
   "cell_type": "code",
   "execution_count": 93,
   "id": "5c1d8af9",
   "metadata": {},
   "outputs": [
    {
     "name": "stdout",
     "output_type": "stream",
     "text": [
      "[8, 9, 7, 2, 6, 1, 3, 5, 4, 10]\n",
      "[8, 7, 9, 2, 6, 1, 3, 5, 4, 10]\n",
      "[8, 7, 2, 9, 6, 1, 3, 5, 4, 10]\n",
      "[8, 7, 2, 6, 9, 1, 3, 5, 4, 10]\n",
      "[8, 7, 2, 6, 1, 9, 3, 5, 4, 10]\n",
      "[8, 7, 2, 6, 1, 3, 9, 5, 4, 10]\n",
      "[8, 7, 2, 6, 1, 3, 5, 9, 4, 10]\n",
      "[8, 7, 2, 6, 1, 3, 5, 4, 9, 10]\n",
      "[8, 7, 2, 6, 1, 3, 5, 4, 9, 10]\n",
      "[7, 8, 2, 6, 1, 3, 5, 4, 9, 10]\n",
      "[7, 2, 8, 6, 1, 3, 5, 4, 9, 10]\n",
      "[7, 2, 6, 8, 1, 3, 5, 4, 9, 10]\n",
      "[7, 2, 6, 1, 8, 3, 5, 4, 9, 10]\n",
      "[7, 2, 6, 1, 3, 8, 5, 4, 9, 10]\n",
      "[7, 2, 6, 1, 3, 5, 8, 4, 9, 10]\n",
      "[7, 2, 6, 1, 3, 5, 4, 8, 9, 10]\n",
      "[7, 2, 6, 1, 3, 5, 4, 8, 9, 10]\n",
      "[2, 7, 6, 1, 3, 5, 4, 8, 9, 10]\n",
      "[2, 6, 7, 1, 3, 5, 4, 8, 9, 10]\n",
      "[2, 6, 1, 7, 3, 5, 4, 8, 9, 10]\n",
      "[2, 6, 1, 3, 7, 5, 4, 8, 9, 10]\n",
      "[2, 6, 1, 3, 5, 7, 4, 8, 9, 10]\n",
      "[2, 6, 1, 3, 5, 4, 7, 8, 9, 10]\n",
      "[2, 6, 1, 3, 5, 4, 7, 8, 9, 10]\n",
      "[2, 6, 1, 3, 5, 4, 7, 8, 9, 10]\n",
      "[2, 1, 6, 3, 5, 4, 7, 8, 9, 10]\n",
      "[2, 1, 3, 6, 5, 4, 7, 8, 9, 10]\n",
      "[2, 1, 3, 5, 6, 4, 7, 8, 9, 10]\n",
      "[2, 1, 3, 5, 4, 6, 7, 8, 9, 10]\n",
      "[2, 1, 3, 5, 4, 6, 7, 8, 9, 10]\n",
      "[1, 2, 3, 5, 4, 6, 7, 8, 9, 10]\n",
      "[1, 2, 3, 5, 4, 6, 7, 8, 9, 10]\n",
      "[1, 2, 3, 5, 4, 6, 7, 8, 9, 10]\n",
      "[1, 2, 3, 4, 5, 6, 7, 8, 9, 10]\n",
      "[1, 2, 3, 4, 5, 6, 7, 8, 9, 10]\n",
      "[1, 2, 3, 4, 5, 6, 7, 8, 9, 10]\n",
      "[1, 2, 3, 4, 5, 6, 7, 8, 9, 10]\n",
      "[1, 2, 3, 4, 5, 6, 7, 8, 9, 10]\n",
      "[1, 2, 3, 4, 5, 6, 7, 8, 9, 10]\n",
      "[1, 2, 3, 4, 5, 6, 7, 8, 9, 10]\n",
      "[1, 2, 3, 4, 5, 6, 7, 8, 9, 10]\n",
      "[1, 2, 3, 4, 5, 6, 7, 8, 9, 10]\n",
      "[1, 2, 3, 4, 5, 6, 7, 8, 9, 10]\n",
      "[1, 2, 3, 4, 5, 6, 7, 8, 9, 10]\n",
      "[1, 2, 3, 4, 5, 6, 7, 8, 9, 10]\n"
     ]
    },
    {
     "data": {
      "text/plain": [
       "[1, 2, 3, 4, 5, 6, 7, 8, 9, 10]"
      ]
     },
     "execution_count": 93,
     "metadata": {},
     "output_type": "execute_result"
    }
   ],
   "source": [
    "RKA_Bubblesort(random.sample(range(1, 11), 10), True)"
   ]
  },
  {
   "cell_type": "code",
   "execution_count": null,
   "id": "66aeda05",
   "metadata": {},
   "outputs": [],
   "source": []
  }
 ],
 "metadata": {
  "kernelspec": {
   "display_name": "Python 3 (ipykernel)",
   "language": "python",
   "name": "python3"
  },
  "language_info": {
   "codemirror_mode": {
    "name": "ipython",
    "version": 3
   },
   "file_extension": ".py",
   "mimetype": "text/x-python",
   "name": "python",
   "nbconvert_exporter": "python",
   "pygments_lexer": "ipython3",
   "version": "3.9.7"
  }
 },
 "nbformat": 4,
 "nbformat_minor": 5
}

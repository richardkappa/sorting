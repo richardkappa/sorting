{
 "cells": [
  {
   "cell_type": "code",
   "execution_count": 1,
   "id": "8eb6abd4",
   "metadata": {},
   "outputs": [],
   "source": [
    "import random"
   ]
  },
  {
   "cell_type": "markdown",
   "id": "5a58fb4e",
   "metadata": {},
   "source": [
    "Make a list of random numbers to work with"
   ]
  },
  {
   "cell_type": "code",
   "execution_count": 6,
   "id": "06288109",
   "metadata": {},
   "outputs": [],
   "source": [
    "randomlist = random.sample(range(1, 11), 10)"
   ]
  },
  {
   "cell_type": "markdown",
   "id": "da6722b1",
   "metadata": {},
   "source": [
    "Build a function that compares two positions and returns the position of the higher value"
   ]
  },
  {
   "cell_type": "code",
   "execution_count": 10,
   "id": "b496d3f2",
   "metadata": {},
   "outputs": [
    {
     "data": {
      "text/plain": [
       "[1, 10, 8, 3, 7, 4, 6, 5, 9, 2]"
      ]
     },
     "execution_count": 10,
     "metadata": {},
     "output_type": "execute_result"
    }
   ],
   "source": [
    "randomlist"
   ]
  },
  {
   "cell_type": "code",
   "execution_count": 18,
   "id": "6d0b3f09",
   "metadata": {},
   "outputs": [
    {
     "data": {
      "text/plain": [
       "1"
      ]
     },
     "execution_count": 18,
     "metadata": {},
     "output_type": "execute_result"
    }
   ],
   "source": [
    "def find_biggest(list, pos_1, pos_2):\n",
    "    if list[pos_1]>=list[pos_2]:\n",
    "        max=pos_1\n",
    "    else:\n",
    "        max=pos_2\n",
    "    return max"
   ]
  },
  {
   "cell_type": "markdown",
   "id": "6ef57f32",
   "metadata": {},
   "source": [
    "Now I have this, what I want to do is work through the positions comparing each pair"
   ]
  }
 ],
 "metadata": {
  "kernelspec": {
   "display_name": "Python 3 (ipykernel)",
   "language": "python",
   "name": "python3"
  },
  "language_info": {
   "codemirror_mode": {
    "name": "ipython",
    "version": 3
   },
   "file_extension": ".py",
   "mimetype": "text/x-python",
   "name": "python",
   "nbconvert_exporter": "python",
   "pygments_lexer": "ipython3",
   "version": "3.9.7"
  }
 },
 "nbformat": 4,
 "nbformat_minor": 5
}

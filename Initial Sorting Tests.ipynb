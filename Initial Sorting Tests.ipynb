{
 "cells": [
  {
   "cell_type": "code",
   "execution_count": 123,
   "id": "211ae01b",
   "metadata": {},
   "outputs": [],
   "source": [
    "import random\n",
    "import time\n",
    "import pandas as pd"
   ]
  },
  {
   "cell_type": "markdown",
   "id": "72c1d4c4",
   "metadata": {},
   "source": [
    "Build a function that compares two positions and returns the position of the higher value"
   ]
  },
  {
   "cell_type": "code",
   "execution_count": 90,
   "id": "5483e55f",
   "metadata": {},
   "outputs": [],
   "source": [
    "def find_biggest(list, pos_1, pos_2):\n",
    "    if list[pos_1]>=list[pos_2]:\n",
    "        max=pos_1\n",
    "    else:\n",
    "        max=pos_2\n",
    "    return max"
   ]
  },
  {
   "cell_type": "markdown",
   "id": "f0770e0c",
   "metadata": {},
   "source": [
    "Now I have this, what I want to do is work through the positions comparing each pair and moving the max value to the right to define the bubble sort"
   ]
  },
  {
   "cell_type": "code",
   "execution_count": 91,
   "id": "da5f7374",
   "metadata": {},
   "outputs": [
    {
     "name": "stdout",
     "output_type": "stream",
     "text": [
      "[1, 2, 3, 4, 5, 6, 7, 8, 9, 10]\n"
     ]
    }
   ],
   "source": [
    "list = randomlist\n",
    "print(list)\n",
    "\n",
    "def RKA_Bubblesort(list, print_list=False):\n",
    "    i=1\n",
    "    j=len(list)-1\n",
    "    while j>0:\n",
    "        while i<=j:\n",
    "            if find_biggest(list, i-1, i) != i:\n",
    "                list[i], list[i-1] = list[i-1], list[i]\n",
    "            if print_list:\n",
    "                print(list)\n",
    "            i += 1\n",
    "        i=1\n",
    "        j -= 1\n",
    "    return list"
   ]
  },
  {
   "cell_type": "code",
   "execution_count": 94,
   "id": "ccc13d27",
   "metadata": {},
   "outputs": [
    {
     "name": "stdout",
     "output_type": "stream",
     "text": [
      "[5, 8, 3, 9, 2, 6, 4, 10, 7, 1]\n",
      "[5, 3, 8, 9, 2, 6, 4, 10, 7, 1]\n",
      "[5, 3, 8, 9, 2, 6, 4, 10, 7, 1]\n",
      "[5, 3, 8, 2, 9, 6, 4, 10, 7, 1]\n",
      "[5, 3, 8, 2, 6, 9, 4, 10, 7, 1]\n",
      "[5, 3, 8, 2, 6, 4, 9, 10, 7, 1]\n",
      "[5, 3, 8, 2, 6, 4, 9, 10, 7, 1]\n",
      "[5, 3, 8, 2, 6, 4, 9, 7, 10, 1]\n",
      "[5, 3, 8, 2, 6, 4, 9, 7, 1, 10]\n",
      "[3, 5, 8, 2, 6, 4, 9, 7, 1, 10]\n",
      "[3, 5, 8, 2, 6, 4, 9, 7, 1, 10]\n",
      "[3, 5, 2, 8, 6, 4, 9, 7, 1, 10]\n",
      "[3, 5, 2, 6, 8, 4, 9, 7, 1, 10]\n",
      "[3, 5, 2, 6, 4, 8, 9, 7, 1, 10]\n",
      "[3, 5, 2, 6, 4, 8, 9, 7, 1, 10]\n",
      "[3, 5, 2, 6, 4, 8, 7, 9, 1, 10]\n",
      "[3, 5, 2, 6, 4, 8, 7, 1, 9, 10]\n",
      "[3, 5, 2, 6, 4, 8, 7, 1, 9, 10]\n",
      "[3, 2, 5, 6, 4, 8, 7, 1, 9, 10]\n",
      "[3, 2, 5, 6, 4, 8, 7, 1, 9, 10]\n",
      "[3, 2, 5, 4, 6, 8, 7, 1, 9, 10]\n",
      "[3, 2, 5, 4, 6, 8, 7, 1, 9, 10]\n",
      "[3, 2, 5, 4, 6, 7, 8, 1, 9, 10]\n",
      "[3, 2, 5, 4, 6, 7, 1, 8, 9, 10]\n",
      "[2, 3, 5, 4, 6, 7, 1, 8, 9, 10]\n",
      "[2, 3, 5, 4, 6, 7, 1, 8, 9, 10]\n",
      "[2, 3, 4, 5, 6, 7, 1, 8, 9, 10]\n",
      "[2, 3, 4, 5, 6, 7, 1, 8, 9, 10]\n",
      "[2, 3, 4, 5, 6, 7, 1, 8, 9, 10]\n",
      "[2, 3, 4, 5, 6, 1, 7, 8, 9, 10]\n",
      "[2, 3, 4, 5, 6, 1, 7, 8, 9, 10]\n",
      "[2, 3, 4, 5, 6, 1, 7, 8, 9, 10]\n",
      "[2, 3, 4, 5, 6, 1, 7, 8, 9, 10]\n",
      "[2, 3, 4, 5, 6, 1, 7, 8, 9, 10]\n",
      "[2, 3, 4, 5, 1, 6, 7, 8, 9, 10]\n",
      "[2, 3, 4, 5, 1, 6, 7, 8, 9, 10]\n",
      "[2, 3, 4, 5, 1, 6, 7, 8, 9, 10]\n",
      "[2, 3, 4, 5, 1, 6, 7, 8, 9, 10]\n",
      "[2, 3, 4, 1, 5, 6, 7, 8, 9, 10]\n",
      "[2, 3, 4, 1, 5, 6, 7, 8, 9, 10]\n",
      "[2, 3, 4, 1, 5, 6, 7, 8, 9, 10]\n",
      "[2, 3, 1, 4, 5, 6, 7, 8, 9, 10]\n",
      "[2, 3, 1, 4, 5, 6, 7, 8, 9, 10]\n",
      "[2, 1, 3, 4, 5, 6, 7, 8, 9, 10]\n",
      "[1, 2, 3, 4, 5, 6, 7, 8, 9, 10]\n"
     ]
    },
    {
     "data": {
      "text/plain": [
       "[1, 2, 3, 4, 5, 6, 7, 8, 9, 10]"
      ]
     },
     "execution_count": 94,
     "metadata": {},
     "output_type": "execute_result"
    }
   ],
   "source": [
    "#Test the sort on a list of 10 random numbers\n",
    "RKA_Bubblesort(random.sample(range(1, 11), 10), True)"
   ]
  },
  {
   "cell_type": "markdown",
   "id": "7f22b494",
   "metadata": {},
   "source": [
    "I'm happy with this for a first go. So lets test it on a big list and compare it to what the stock function can do"
   ]
  },
  {
   "cell_type": "code",
   "execution_count": 126,
   "id": "e647a8bc",
   "metadata": {},
   "outputs": [
    {
     "data": {
      "text/html": [
       "<div>\n",
       "<style scoped>\n",
       "    .dataframe tbody tr th:only-of-type {\n",
       "        vertical-align: middle;\n",
       "    }\n",
       "\n",
       "    .dataframe tbody tr th {\n",
       "        vertical-align: top;\n",
       "    }\n",
       "\n",
       "    .dataframe thead th {\n",
       "        text-align: right;\n",
       "    }\n",
       "</style>\n",
       "<table border=\"1\" class=\"dataframe\">\n",
       "  <thead>\n",
       "    <tr style=\"text-align: right;\">\n",
       "      <th></th>\n",
       "      <th>List Length</th>\n",
       "      <th>Stock Sort</th>\n",
       "      <th>RKA Bubble Sort</th>\n",
       "    </tr>\n",
       "  </thead>\n",
       "  <tbody>\n",
       "    <tr>\n",
       "      <th>0</th>\n",
       "      <td>10</td>\n",
       "      <td>0.000000</td>\n",
       "      <td>0.000000</td>\n",
       "    </tr>\n",
       "    <tr>\n",
       "      <th>1</th>\n",
       "      <td>100</td>\n",
       "      <td>0.000000</td>\n",
       "      <td>0.001994</td>\n",
       "    </tr>\n",
       "    <tr>\n",
       "      <th>2</th>\n",
       "      <td>1000</td>\n",
       "      <td>0.000000</td>\n",
       "      <td>0.142627</td>\n",
       "    </tr>\n",
       "    <tr>\n",
       "      <th>3</th>\n",
       "      <td>10000</td>\n",
       "      <td>0.000996</td>\n",
       "      <td>14.193864</td>\n",
       "    </tr>\n",
       "  </tbody>\n",
       "</table>\n",
       "</div>"
      ],
      "text/plain": [
       "   List Length  Stock Sort  RKA Bubble Sort\n",
       "0           10    0.000000         0.000000\n",
       "1          100    0.000000         0.001994\n",
       "2         1000    0.000000         0.142627\n",
       "3        10000    0.000996        14.193864"
      ]
     },
     "execution_count": 126,
     "metadata": {},
     "output_type": "execute_result"
    }
   ],
   "source": [
    "def runtest(listlength):\n",
    "    BigList = random.sample(range(0, listlength), listlength)\n",
    "    BigList2 = BigList.copy()\n",
    "\n",
    "    start = time.time()\n",
    "    BigList.sort()\n",
    "    end = time.time()\n",
    "    StockFunctionTime = end - start\n",
    "\n",
    "    start = time.time()\n",
    "    RKA_Bubblesort(BigList2)\n",
    "    end = time.time()\n",
    "    RKA_Bubblesort_Time = end - start\n",
    "\n",
    "    return listlength, StockFunctionTime, RKA_Bubblesort_Time\n",
    "    \n",
    "results = [runtest(10), runtest(100), runtest(1000), runtest(10000)]\n",
    "results_df = pd.DataFrame.from_records(results, columns =['List Length', 'Stock Sort', 'RKA Bubble Sort'])\n",
    "\n",
    "results_df"
   ]
  },
  {
   "cell_type": "markdown",
   "id": "1329acab",
   "metadata": {},
   "source": [
    "Hmm, I think it's fair to say that my function isn't all that efficient"
   ]
  },
  {
   "cell_type": "markdown",
   "id": "c5e86c7e",
   "metadata": {},
   "source": [
    "Now I get to Google some results and, well, I've been a bit dumb\n",
    "\n",
    "some examples from here\n",
    "https://stackoverflow.com/questions/11964450/python-order-a-list-of-numbers-without-built-in-sort-min-max-function\n",
    "\n",
    "The first one is doing the same as mine, but in a lot less code\n",
    "The second on is a bit different"
   ]
  },
  {
   "cell_type": "code",
   "execution_count": 130,
   "id": "3860d33a",
   "metadata": {},
   "outputs": [],
   "source": [
    "def SO_Bubble(l):\n",
    "    for i in range(len(l)):\n",
    "        for j in range(i + 1, len(l)):\n",
    "            if l[i] > l[j]:\n",
    "               l[i], l[j] = l[j], l[i]\n",
    "    return l\n",
    "\n",
    "def SO_Sort(data_list):\n",
    "    new_list = []\n",
    "    while data_list:\n",
    "        minimum = data_list[0]  # arbitrary number in list \n",
    "        for x in data_list: \n",
    "            if x < minimum:\n",
    "                minimum = x\n",
    "        new_list.append(minimum)\n",
    "        data_list.remove(minimum) \n",
    "    return new_list"
   ]
  },
  {
   "cell_type": "code",
   "execution_count": 132,
   "id": "1b582c6b",
   "metadata": {},
   "outputs": [
    {
     "data": {
      "text/html": [
       "<div>\n",
       "<style scoped>\n",
       "    .dataframe tbody tr th:only-of-type {\n",
       "        vertical-align: middle;\n",
       "    }\n",
       "\n",
       "    .dataframe tbody tr th {\n",
       "        vertical-align: top;\n",
       "    }\n",
       "\n",
       "    .dataframe thead th {\n",
       "        text-align: right;\n",
       "    }\n",
       "</style>\n",
       "<table border=\"1\" class=\"dataframe\">\n",
       "  <thead>\n",
       "    <tr style=\"text-align: right;\">\n",
       "      <th></th>\n",
       "      <th>List Length</th>\n",
       "      <th>Stock Sort</th>\n",
       "      <th>RKA Bubble Sort</th>\n",
       "      <th>SO_Bubble</th>\n",
       "      <th>SO_Sort</th>\n",
       "    </tr>\n",
       "  </thead>\n",
       "  <tbody>\n",
       "    <tr>\n",
       "      <th>0</th>\n",
       "      <td>10</td>\n",
       "      <td>0.000000</td>\n",
       "      <td>0.000000</td>\n",
       "      <td>0.000000</td>\n",
       "      <td>0.000000</td>\n",
       "    </tr>\n",
       "    <tr>\n",
       "      <th>1</th>\n",
       "      <td>100</td>\n",
       "      <td>0.000000</td>\n",
       "      <td>0.000996</td>\n",
       "      <td>0.000994</td>\n",
       "      <td>0.000000</td>\n",
       "    </tr>\n",
       "    <tr>\n",
       "      <th>2</th>\n",
       "      <td>1000</td>\n",
       "      <td>0.000972</td>\n",
       "      <td>0.142617</td>\n",
       "      <td>0.052889</td>\n",
       "      <td>0.014958</td>\n",
       "    </tr>\n",
       "    <tr>\n",
       "      <th>3</th>\n",
       "      <td>10000</td>\n",
       "      <td>0.000998</td>\n",
       "      <td>14.192361</td>\n",
       "      <td>5.269713</td>\n",
       "      <td>1.446949</td>\n",
       "    </tr>\n",
       "  </tbody>\n",
       "</table>\n",
       "</div>"
      ],
      "text/plain": [
       "   List Length  Stock Sort  RKA Bubble Sort  SO_Bubble   SO_Sort\n",
       "0           10    0.000000         0.000000   0.000000  0.000000\n",
       "1          100    0.000000         0.000996   0.000994  0.000000\n",
       "2         1000    0.000972         0.142617   0.052889  0.014958\n",
       "3        10000    0.000998        14.192361   5.269713  1.446949"
      ]
     },
     "execution_count": 132,
     "metadata": {},
     "output_type": "execute_result"
    }
   ],
   "source": [
    "def runtest(listlength):\n",
    "    BigList = random.sample(range(0, listlength), listlength)\n",
    "    BigList2 = BigList.copy()\n",
    "    BigList3 = BigList.copy()\n",
    "    BigList4 = BigList.copy()\n",
    "\n",
    "    start = time.time()\n",
    "    BigList.sort()\n",
    "    end = time.time()\n",
    "    StockFunctionTime = end - start\n",
    "\n",
    "    start = time.time()\n",
    "    RKA_Bubblesort(BigList2)\n",
    "    end = time.time()\n",
    "    RKA_Bubblesort_Time = end - start\n",
    "    \n",
    "    start = time.time()\n",
    "    SO_Bubble(BigList3)\n",
    "    end = time.time()\n",
    "    SO_Bubble_Time = end - start\n",
    "    \n",
    "    start = time.time()\n",
    "    SO_Sort(BigList4)\n",
    "    end = time.time()\n",
    "    SO_Sort_Time = end - start\n",
    "\n",
    "    return listlength, StockFunctionTime, RKA_Bubblesort_Time, SO_Bubble_Time, SO_Sort_Time\n",
    "    \n",
    "results = [runtest(10), runtest(100), runtest(1000), runtest(10000)]\n",
    "results_df = pd.DataFrame.from_records(results, columns =['List Length', 'Stock Sort', 'RKA Bubble Sort', 'SO_Bubble', 'SO_Sort'])\n",
    "\n",
    "results_df"
   ]
  }
 ],
 "metadata": {
  "kernelspec": {
   "display_name": "Python 3 (ipykernel)",
   "language": "python",
   "name": "python3"
  },
  "language_info": {
   "codemirror_mode": {
    "name": "ipython",
    "version": 3
   },
   "file_extension": ".py",
   "mimetype": "text/x-python",
   "name": "python",
   "nbconvert_exporter": "python",
   "pygments_lexer": "ipython3",
   "version": "3.9.7"
  }
 },
 "nbformat": 4,
 "nbformat_minor": 5
}

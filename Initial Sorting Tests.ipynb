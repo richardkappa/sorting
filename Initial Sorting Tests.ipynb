{
 "cells": [
  {
   "cell_type": "code",
   "execution_count": 139,
   "id": "5a452c8f",
   "metadata": {},
   "outputs": [],
   "source": [
    "import random\n",
    "import time\n",
    "import pandas as pd\n",
    "import matplotlib.pyplot as plt"
   ]
  },
  {
   "cell_type": "markdown",
   "id": "0bd5b245",
   "metadata": {},
   "source": [
    "Build a function that compares two positions and returns the position of the higher value"
   ]
  },
  {
   "cell_type": "code",
   "execution_count": 90,
   "id": "0d76bcc4",
   "metadata": {},
   "outputs": [],
   "source": [
    "def find_biggest(list, pos_1, pos_2):\n",
    "    if list[pos_1]>=list[pos_2]:\n",
    "        max=pos_1\n",
    "    else:\n",
    "        max=pos_2\n",
    "    return max"
   ]
  },
  {
   "cell_type": "markdown",
   "id": "e8dc525d",
   "metadata": {},
   "source": [
    "Now I have this, what I want to do is work through the positions comparing each pair and moving the max value to the right to define the bubble sort"
   ]
  },
  {
   "cell_type": "code",
   "execution_count": 91,
   "id": "a5f935db",
   "metadata": {},
   "outputs": [
    {
     "name": "stdout",
     "output_type": "stream",
     "text": [
      "[1, 2, 3, 4, 5, 6, 7, 8, 9, 10]\n"
     ]
    }
   ],
   "source": [
    "def RKA_Bubblesort(list, print_list=False):\n",
    "    i=1\n",
    "    j=len(list)-1\n",
    "    while j>0:\n",
    "        while i<=j:\n",
    "            if find_biggest(list, i-1, i) != i:\n",
    "                list[i], list[i-1] = list[i-1], list[i]\n",
    "            if print_list:\n",
    "                print(list)\n",
    "            i += 1\n",
    "        i=1\n",
    "        j -= 1\n",
    "    return list"
   ]
  },
  {
   "cell_type": "code",
   "execution_count": 94,
   "id": "2561b559",
   "metadata": {},
   "outputs": [
    {
     "name": "stdout",
     "output_type": "stream",
     "text": [
      "[5, 8, 3, 9, 2, 6, 4, 10, 7, 1]\n",
      "[5, 3, 8, 9, 2, 6, 4, 10, 7, 1]\n",
      "[5, 3, 8, 9, 2, 6, 4, 10, 7, 1]\n",
      "[5, 3, 8, 2, 9, 6, 4, 10, 7, 1]\n",
      "[5, 3, 8, 2, 6, 9, 4, 10, 7, 1]\n",
      "[5, 3, 8, 2, 6, 4, 9, 10, 7, 1]\n",
      "[5, 3, 8, 2, 6, 4, 9, 10, 7, 1]\n",
      "[5, 3, 8, 2, 6, 4, 9, 7, 10, 1]\n",
      "[5, 3, 8, 2, 6, 4, 9, 7, 1, 10]\n",
      "[3, 5, 8, 2, 6, 4, 9, 7, 1, 10]\n",
      "[3, 5, 8, 2, 6, 4, 9, 7, 1, 10]\n",
      "[3, 5, 2, 8, 6, 4, 9, 7, 1, 10]\n",
      "[3, 5, 2, 6, 8, 4, 9, 7, 1, 10]\n",
      "[3, 5, 2, 6, 4, 8, 9, 7, 1, 10]\n",
      "[3, 5, 2, 6, 4, 8, 9, 7, 1, 10]\n",
      "[3, 5, 2, 6, 4, 8, 7, 9, 1, 10]\n",
      "[3, 5, 2, 6, 4, 8, 7, 1, 9, 10]\n",
      "[3, 5, 2, 6, 4, 8, 7, 1, 9, 10]\n",
      "[3, 2, 5, 6, 4, 8, 7, 1, 9, 10]\n",
      "[3, 2, 5, 6, 4, 8, 7, 1, 9, 10]\n",
      "[3, 2, 5, 4, 6, 8, 7, 1, 9, 10]\n",
      "[3, 2, 5, 4, 6, 8, 7, 1, 9, 10]\n",
      "[3, 2, 5, 4, 6, 7, 8, 1, 9, 10]\n",
      "[3, 2, 5, 4, 6, 7, 1, 8, 9, 10]\n",
      "[2, 3, 5, 4, 6, 7, 1, 8, 9, 10]\n",
      "[2, 3, 5, 4, 6, 7, 1, 8, 9, 10]\n",
      "[2, 3, 4, 5, 6, 7, 1, 8, 9, 10]\n",
      "[2, 3, 4, 5, 6, 7, 1, 8, 9, 10]\n",
      "[2, 3, 4, 5, 6, 7, 1, 8, 9, 10]\n",
      "[2, 3, 4, 5, 6, 1, 7, 8, 9, 10]\n",
      "[2, 3, 4, 5, 6, 1, 7, 8, 9, 10]\n",
      "[2, 3, 4, 5, 6, 1, 7, 8, 9, 10]\n",
      "[2, 3, 4, 5, 6, 1, 7, 8, 9, 10]\n",
      "[2, 3, 4, 5, 6, 1, 7, 8, 9, 10]\n",
      "[2, 3, 4, 5, 1, 6, 7, 8, 9, 10]\n",
      "[2, 3, 4, 5, 1, 6, 7, 8, 9, 10]\n",
      "[2, 3, 4, 5, 1, 6, 7, 8, 9, 10]\n",
      "[2, 3, 4, 5, 1, 6, 7, 8, 9, 10]\n",
      "[2, 3, 4, 1, 5, 6, 7, 8, 9, 10]\n",
      "[2, 3, 4, 1, 5, 6, 7, 8, 9, 10]\n",
      "[2, 3, 4, 1, 5, 6, 7, 8, 9, 10]\n",
      "[2, 3, 1, 4, 5, 6, 7, 8, 9, 10]\n",
      "[2, 3, 1, 4, 5, 6, 7, 8, 9, 10]\n",
      "[2, 1, 3, 4, 5, 6, 7, 8, 9, 10]\n",
      "[1, 2, 3, 4, 5, 6, 7, 8, 9, 10]\n"
     ]
    },
    {
     "data": {
      "text/plain": [
       "[1, 2, 3, 4, 5, 6, 7, 8, 9, 10]"
      ]
     },
     "execution_count": 94,
     "metadata": {},
     "output_type": "execute_result"
    }
   ],
   "source": [
    "#Test the sort on a list of 10 random numbers\n",
    "RKA_Bubblesort(random.sample(range(1, 11), 10), True)"
   ]
  },
  {
   "cell_type": "markdown",
   "id": "ea994a43",
   "metadata": {},
   "source": [
    "I'm happy with this for a first go. So lets test it on a big list and compare it to what the stock function can do"
   ]
  },
  {
   "cell_type": "code",
   "execution_count": 126,
   "id": "932ad697",
   "metadata": {},
   "outputs": [
    {
     "data": {
      "text/html": [
       "<div>\n",
       "<style scoped>\n",
       "    .dataframe tbody tr th:only-of-type {\n",
       "        vertical-align: middle;\n",
       "    }\n",
       "\n",
       "    .dataframe tbody tr th {\n",
       "        vertical-align: top;\n",
       "    }\n",
       "\n",
       "    .dataframe thead th {\n",
       "        text-align: right;\n",
       "    }\n",
       "</style>\n",
       "<table border=\"1\" class=\"dataframe\">\n",
       "  <thead>\n",
       "    <tr style=\"text-align: right;\">\n",
       "      <th></th>\n",
       "      <th>List Length</th>\n",
       "      <th>Stock Sort</th>\n",
       "      <th>RKA Bubble Sort</th>\n",
       "    </tr>\n",
       "  </thead>\n",
       "  <tbody>\n",
       "    <tr>\n",
       "      <th>0</th>\n",
       "      <td>10</td>\n",
       "      <td>0.000000</td>\n",
       "      <td>0.000000</td>\n",
       "    </tr>\n",
       "    <tr>\n",
       "      <th>1</th>\n",
       "      <td>100</td>\n",
       "      <td>0.000000</td>\n",
       "      <td>0.001994</td>\n",
       "    </tr>\n",
       "    <tr>\n",
       "      <th>2</th>\n",
       "      <td>1000</td>\n",
       "      <td>0.000000</td>\n",
       "      <td>0.142627</td>\n",
       "    </tr>\n",
       "    <tr>\n",
       "      <th>3</th>\n",
       "      <td>10000</td>\n",
       "      <td>0.000996</td>\n",
       "      <td>14.193864</td>\n",
       "    </tr>\n",
       "  </tbody>\n",
       "</table>\n",
       "</div>"
      ],
      "text/plain": [
       "   List Length  Stock Sort  RKA Bubble Sort\n",
       "0           10    0.000000         0.000000\n",
       "1          100    0.000000         0.001994\n",
       "2         1000    0.000000         0.142627\n",
       "3        10000    0.000996        14.193864"
      ]
     },
     "execution_count": 126,
     "metadata": {},
     "output_type": "execute_result"
    }
   ],
   "source": [
    "def runtest(listlength):\n",
    "    BigList = random.sample(range(0, listlength), listlength)\n",
    "    BigList2 = BigList.copy()\n",
    "\n",
    "    start = time.time()\n",
    "    BigList.sort()\n",
    "    end = time.time()\n",
    "    StockFunctionTime = end - start\n",
    "\n",
    "    start = time.time()\n",
    "    RKA_Bubblesort(BigList2)\n",
    "    end = time.time()\n",
    "    RKA_Bubblesort_Time = end - start\n",
    "\n",
    "    return listlength, StockFunctionTime, RKA_Bubblesort_Time\n",
    "    \n",
    "results = [runtest(10), runtest(100), runtest(1000), runtest(10000)]\n",
    "results_df = pd.DataFrame.from_records(results, columns =['List Length', 'Stock Sort', 'RKA Bubble Sort'])\n",
    "\n",
    "results_df"
   ]
  },
  {
   "cell_type": "markdown",
   "id": "38f121ca",
   "metadata": {},
   "source": [
    "Hmm, I think it's fair to say that my function isn't all that efficient"
   ]
  },
  {
   "cell_type": "markdown",
   "id": "1ef3180a",
   "metadata": {},
   "source": [
    "Now I get to Google some results and, well, I've been a bit dumb\n",
    "\n",
    "some examples from here\n",
    "https://stackoverflow.com/questions/11964450/python-order-a-list-of-numbers-without-built-in-sort-min-max-function\n",
    "\n",
    "The first one is doing the same as mine, but in a lot less code\n",
    "The second on is a bit different"
   ]
  },
  {
   "cell_type": "code",
   "execution_count": 130,
   "id": "7426ac1c",
   "metadata": {},
   "outputs": [],
   "source": [
    "def SO_Bubble(l):\n",
    "    for i in range(len(l)):\n",
    "        for j in range(i + 1, len(l)):\n",
    "            if l[i] > l[j]:\n",
    "               l[i], l[j] = l[j], l[i]\n",
    "    return l\n",
    "\n",
    "    def SO_Sort(data_list):\n",
    "    new_list = []\n",
    "    while data_list:\n",
    "        minimum = data_list[0]  # arbitrary number in list \n",
    "        for x in data_list: \n",
    "            if x < minimum:\n",
    "                minimum = x\n",
    "        new_list.append(minimum)\n",
    "        data_list.remove(minimum) \n",
    "    return new_list"
   ]
  },
  {
   "cell_type": "code",
   "execution_count": 132,
   "id": "7d16f945",
   "metadata": {},
   "outputs": [
    {
     "data": {
      "text/html": [
       "<div>\n",
       "<style scoped>\n",
       "    .dataframe tbody tr th:only-of-type {\n",
       "        vertical-align: middle;\n",
       "    }\n",
       "\n",
       "    .dataframe tbody tr th {\n",
       "        vertical-align: top;\n",
       "    }\n",
       "\n",
       "    .dataframe thead th {\n",
       "        text-align: right;\n",
       "    }\n",
       "</style>\n",
       "<table border=\"1\" class=\"dataframe\">\n",
       "  <thead>\n",
       "    <tr style=\"text-align: right;\">\n",
       "      <th></th>\n",
       "      <th>List Length</th>\n",
       "      <th>Stock Sort</th>\n",
       "      <th>RKA Bubble Sort</th>\n",
       "      <th>SO_Bubble</th>\n",
       "      <th>SO_Sort</th>\n",
       "    </tr>\n",
       "  </thead>\n",
       "  <tbody>\n",
       "    <tr>\n",
       "      <th>0</th>\n",
       "      <td>10</td>\n",
       "      <td>0.000000</td>\n",
       "      <td>0.000000</td>\n",
       "      <td>0.000000</td>\n",
       "      <td>0.000000</td>\n",
       "    </tr>\n",
       "    <tr>\n",
       "      <th>1</th>\n",
       "      <td>100</td>\n",
       "      <td>0.000000</td>\n",
       "      <td>0.000996</td>\n",
       "      <td>0.000994</td>\n",
       "      <td>0.000000</td>\n",
       "    </tr>\n",
       "    <tr>\n",
       "      <th>2</th>\n",
       "      <td>1000</td>\n",
       "      <td>0.000972</td>\n",
       "      <td>0.142617</td>\n",
       "      <td>0.052889</td>\n",
       "      <td>0.014958</td>\n",
       "    </tr>\n",
       "    <tr>\n",
       "      <th>3</th>\n",
       "      <td>10000</td>\n",
       "      <td>0.000998</td>\n",
       "      <td>14.192361</td>\n",
       "      <td>5.269713</td>\n",
       "      <td>1.446949</td>\n",
       "    </tr>\n",
       "  </tbody>\n",
       "</table>\n",
       "</div>"
      ],
      "text/plain": [
       "   List Length  Stock Sort  RKA Bubble Sort  SO_Bubble   SO_Sort\n",
       "0           10    0.000000         0.000000   0.000000  0.000000\n",
       "1          100    0.000000         0.000996   0.000994  0.000000\n",
       "2         1000    0.000972         0.142617   0.052889  0.014958\n",
       "3        10000    0.000998        14.192361   5.269713  1.446949"
      ]
     },
     "execution_count": 132,
     "metadata": {},
     "output_type": "execute_result"
    }
   ],
   "source": [
    "def runtest(listlength):\n",
    "    BigList = random.sample(range(0, listlength), listlength)\n",
    "    BigList2 = BigList.copy()\n",
    "    BigList3 = BigList.copy()\n",
    "    BigList4 = BigList.copy()\n",
    "\n",
    "    start = time.time()\n",
    "    BigList.sort()\n",
    "    end = time.time()\n",
    "    StockFunctionTime = end - start\n",
    "\n",
    "    start = time.time()\n",
    "    RKA_Bubblesort(BigList2)\n",
    "    end = time.time()\n",
    "    RKA_Bubblesort_Time = end - start\n",
    "    \n",
    "    start = time.time()\n",
    "    SO_Bubble(BigList3)\n",
    "    end = time.time()\n",
    "    SO_Bubble_Time = end - start\n",
    "    \n",
    "    start = time.time()\n",
    "    SO_Sort(BigList4)\n",
    "    end = time.time()\n",
    "    SO_Sort_Time = end - start\n",
    "\n",
    "    return listlength, StockFunctionTime, RKA_Bubblesort_Time, SO_Bubble_Time, SO_Sort_Time\n",
    "    \n",
    "results = [runtest(10), runtest(100), runtest(1000), runtest(10000)]\n",
    "results_df = pd.DataFrame.from_records(results, columns =['List Length', 'Stock Sort', 'RKA Bubble Sort', 'SO_Bubble', 'SO_Sort'])\n",
    "\n",
    "results_df"
   ]
  },
  {
   "cell_type": "markdown",
   "id": "b964faa0",
   "metadata": {},
   "source": [
    "It's safe to say that my method is the worst since it has so many extra calculations. the SO_sort is the best non stock one so far. Lets see if I can improve mine by removing some bloat"
   ]
  },
  {
   "cell_type": "code",
   "execution_count": 136,
   "id": "34681e39",
   "metadata": {},
   "outputs": [],
   "source": [
    "def RKA_Bubblesort2(list, print_list=False):\n",
    "    i=1\n",
    "    j=len(list)-1\n",
    "    while j>0:\n",
    "        while i<=j:\n",
    "            if list[i]<list[i-1]:\n",
    "                list[i], list[i-1] = list[i-1], list[i]\n",
    "            i += 1\n",
    "        i=1\n",
    "        j -= 1\n",
    "    return list"
   ]
  },
  {
   "cell_type": "code",
   "execution_count": 150,
   "id": "644c5fad",
   "metadata": {},
   "outputs": [
    {
     "data": {
      "text/html": [
       "<div>\n",
       "<style scoped>\n",
       "    .dataframe tbody tr th:only-of-type {\n",
       "        vertical-align: middle;\n",
       "    }\n",
       "\n",
       "    .dataframe tbody tr th {\n",
       "        vertical-align: top;\n",
       "    }\n",
       "\n",
       "    .dataframe thead th {\n",
       "        text-align: right;\n",
       "    }\n",
       "</style>\n",
       "<table border=\"1\" class=\"dataframe\">\n",
       "  <thead>\n",
       "    <tr style=\"text-align: right;\">\n",
       "      <th></th>\n",
       "      <th>List Length</th>\n",
       "      <th>Stock Sort</th>\n",
       "      <th>RKA Bubble Sort</th>\n",
       "      <th>SO_Bubble</th>\n",
       "      <th>SO_Sort</th>\n",
       "      <th>RKA_Bubblesort2</th>\n",
       "    </tr>\n",
       "  </thead>\n",
       "  <tbody>\n",
       "    <tr>\n",
       "      <th>0</th>\n",
       "      <td>10</td>\n",
       "      <td>0.000000</td>\n",
       "      <td>0.000000</td>\n",
       "      <td>0.000000</td>\n",
       "      <td>0.000000</td>\n",
       "      <td>0.000000</td>\n",
       "    </tr>\n",
       "    <tr>\n",
       "      <th>1</th>\n",
       "      <td>100</td>\n",
       "      <td>0.000000</td>\n",
       "      <td>0.001531</td>\n",
       "      <td>0.000067</td>\n",
       "      <td>0.000000</td>\n",
       "      <td>0.000963</td>\n",
       "    </tr>\n",
       "    <tr>\n",
       "      <th>2</th>\n",
       "      <td>1000</td>\n",
       "      <td>0.000995</td>\n",
       "      <td>0.144060</td>\n",
       "      <td>0.052826</td>\n",
       "      <td>0.014988</td>\n",
       "      <td>0.086769</td>\n",
       "    </tr>\n",
       "    <tr>\n",
       "      <th>3</th>\n",
       "      <td>5000</td>\n",
       "      <td>0.000997</td>\n",
       "      <td>3.561352</td>\n",
       "      <td>1.320026</td>\n",
       "      <td>0.360038</td>\n",
       "      <td>2.234048</td>\n",
       "    </tr>\n",
       "    <tr>\n",
       "      <th>4</th>\n",
       "      <td>10000</td>\n",
       "      <td>0.000997</td>\n",
       "      <td>14.141296</td>\n",
       "      <td>5.239508</td>\n",
       "      <td>1.448239</td>\n",
       "      <td>9.025137</td>\n",
       "    </tr>\n",
       "  </tbody>\n",
       "</table>\n",
       "</div>"
      ],
      "text/plain": [
       "   List Length  Stock Sort  RKA Bubble Sort  SO_Bubble   SO_Sort  \\\n",
       "0           10    0.000000         0.000000   0.000000  0.000000   \n",
       "1          100    0.000000         0.001531   0.000067  0.000000   \n",
       "2         1000    0.000995         0.144060   0.052826  0.014988   \n",
       "3         5000    0.000997         3.561352   1.320026  0.360038   \n",
       "4        10000    0.000997        14.141296   5.239508  1.448239   \n",
       "\n",
       "   RKA_Bubblesort2  \n",
       "0         0.000000  \n",
       "1         0.000963  \n",
       "2         0.086769  \n",
       "3         2.234048  \n",
       "4         9.025137  "
      ]
     },
     "execution_count": 150,
     "metadata": {},
     "output_type": "execute_result"
    }
   ],
   "source": [
    "def runtest(listlength):\n",
    "    BigList = random.sample(range(0, listlength), listlength)\n",
    "\n",
    "    list = BigList.copy()\n",
    "    start = time.time()\n",
    "    list.sort()\n",
    "    end = time.time()\n",
    "    StockFunctionTime = end - start\n",
    "\n",
    "    list = BigList.copy()\n",
    "    start = time.time()\n",
    "    RKA_Bubblesort(list)\n",
    "    end = time.time()\n",
    "    RKA_Bubblesort_Time = end - start\n",
    "    \n",
    "    list = BigList.copy()\n",
    "    start = time.time()\n",
    "    SO_Bubble(list)\n",
    "    end = time.time()\n",
    "    SO_Bubble_Time = end - start\n",
    "    \n",
    "    list = BigList.copy()\n",
    "    start = time.time()\n",
    "    SO_Sort(list)\n",
    "    end = time.time()\n",
    "    SO_Sort_Time = end - start\n",
    "    \n",
    "    list = BigList.copy()\n",
    "    start = time.time()\n",
    "    RKA_Bubblesort2(list)\n",
    "    end = time.time()\n",
    "    RKA_Bubblesort2_Time = end - start\n",
    "\n",
    "    return listlength, StockFunctionTime, RKA_Bubblesort_Time, SO_Bubble_Time, SO_Sort_Time, RKA_Bubblesort2_Time\n",
    "    \n",
    "results = [runtest(10), runtest(100), runtest(1000), runtest(5000), runtest(5000),, runtest(5000), runtest(10000)]\n",
    "results_df = pd.DataFrame.from_records(results, columns =['List Length', 'Stock Sort', 'RKA Bubble Sort', 'SO_Bubble', 'SO_Sort', \"RKA_Bubblesort2\"])\n",
    "\n",
    "results_df"
   ]
  },
  {
   "cell_type": "code",
   "execution_count": 151,
   "id": "5f765d47",
   "metadata": {},
   "outputs": [
    {
     "data": {
      "image/png": "[encoded data removed]",
      "text/plain": [
       "<Figure size 432x288 with 1 Axes>"
      ]
     },
     "metadata": {
      "needs_background": "light"
     },
     "output_type": "display_data"
    }
   ],
   "source": [
    "xpoints = results_df[\"List Length\"]\n",
    "ypoints = results_df.drop(columns = [\"List Length\"])\n",
    "\n",
    "plt.plot(xpoints, ypoints)\n",
    "plt.show()"
   ]
  },
  {
   "cell_type": "markdown",
   "id": "272881ec",
   "metadata": {},
   "source": [
    "OK, it's still the worst. But it did cut a third off the time to run"
   ]
  }
 ],
 "metadata": {
  "kernelspec": {
   "display_name": "Python 3 (ipykernel)",
   "language": "python",
   "name": "python3"
  },
  "language_info": {
   "codemirror_mode": {
    "name": "ipython",
    "version": 3
   },
   "file_extension": ".py",
   "mimetype": "text/x-python",
   "name": "python",
   "nbconvert_exporter": "python",
   "pygments_lexer": "ipython3",
   "version": "3.9.7"
  }
 },
 "nbformat": 4,
 "nbformat_minor": 5
}
